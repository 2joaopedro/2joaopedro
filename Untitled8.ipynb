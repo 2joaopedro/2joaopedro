{
  "nbformat": 4,
  "nbformat_minor": 0,
  "metadata": {
    "colab": {
      "provenance": [],
      "authorship_tag": "ABX9TyOeS9cwrPGMXBM9/FvGOYqW",
      "include_colab_link": true
    },
    "kernelspec": {
      "name": "python3",
      "display_name": "Python 3"
    },
    "language_info": {
      "name": "python"
    }
  },
  "cells": [
    {
      "cell_type": "markdown",
      "metadata": {
        "id": "view-in-github",
        "colab_type": "text"
      },
      "source": [
        "<a href=\"https://colab.research.google.com/github/2joaopedro/2joaopedro/blob/main/Untitled8.ipynb\" target=\"_parent\"><img src=\"https://colab.research.google.com/assets/colab-badge.svg\" alt=\"Open In Colab\"/></a>"
      ]
    },
    {
      "cell_type": "code",
      "execution_count": 12,
      "metadata": {
        "id": "yyVqggq-kJRN"
      },
      "outputs": [],
      "source": [
        "class Node(object):\n",
        "  def __init__(self, data):\n",
        "    self.left = None\n",
        "    self.right = None \n",
        "    self.data = data"
      ]
    },
    {
      "cell_type": "code",
      "source": [
        "node1 = Node(99)\n",
        "node2 = Node(87)\n",
        "node3 = Node(89)\n",
        "node4 = Node(77)\n",
        "node5 = Node(79)\n",
        "node6 = Node(53)\n",
        "node7 = Node(58)\n",
        "\n",
        "node8 = Node(89)\n",
        "node9 = Node(81)\n",
        "node10 = Node(84)\n",
        "node11 = Node(64)\n",
        "node12 = Node(61)"
      ],
      "metadata": {
        "id": "CcNSVBG4qQ8v"
      },
      "execution_count": 13,
      "outputs": []
    },
    {
      "cell_type": "code",
      "source": [
        "node1.leftChild = node2\n",
        "node1.rightChild = node3\n",
        "\n",
        "node2.leftChild = node4\n",
        "node2.rightChild = node5\n",
        "\n",
        "node4.leftChild = node6\n",
        "node4.rightChild = node7\n",
        "\n",
        "node5.leftChild = None\n",
        "node5.rightChild = None\n",
        "\n",
        "node8.leftChild = node9\n",
        "node8.rightChild = node10\n",
        "\n",
        "node9.leftChild = None\n",
        "node9.rightChild = None\n",
        "\n",
        "node10.leftChild = node11\n",
        "node10.rightChild = node12"
      ],
      "metadata": {
        "id": "UMYygSQ2t1wi"
      },
      "execution_count": 17,
      "outputs": []
    },
    {
      "cell_type": "code",
      "source": [
        "print(\"Nó 1 é:\")\n",
        "print(node1.data)\n",
        "print(\"Filho à esquerda:\")\n",
        "print(node1.leftChild.data)\n",
        "print(\"Filho à direita:\")\n",
        "print(node1.rightChild.data)"
      ],
      "metadata": {
        "colab": {
          "base_uri": "https://localhost:8080/"
        },
        "id": "AW_n6oJIx4sZ",
        "outputId": "b29672fc-40b8-433c-d09f-c403ba31e7f5"
      },
      "execution_count": 37,
      "outputs": [
        {
          "output_type": "stream",
          "name": "stdout",
          "text": [
            "Nó 1 é:\n",
            "99\n",
            "Filho à esquerda:\n",
            "87\n",
            "Filho à direita:\n",
            "89\n"
          ]
        }
      ]
    },
    {
      "cell_type": "code",
      "source": [
        "print(\"Nó 2 é:\")\n",
        "print(node2.data)\n",
        "print(\"Filho à esquerda:\")\n",
        "print(node2.leftChild.data)\n",
        "print(\"Filho à direita:\")\n",
        "print(node2.rightChild.data)"
      ],
      "metadata": {
        "colab": {
          "base_uri": "https://localhost:8080/"
        },
        "id": "kX1TUtTE1QMr",
        "outputId": "01d00d3e-b2cd-4ff8-b4d0-eeac3593e567"
      },
      "execution_count": 36,
      "outputs": [
        {
          "output_type": "stream",
          "name": "stdout",
          "text": [
            "Nó 2 é:\n",
            "87\n",
            "Filho à esquerda:\n",
            "77\n",
            "Filho à direita:\n",
            "79\n"
          ]
        }
      ]
    },
    {
      "cell_type": "code",
      "source": [
        "print(\"Nó 3 é:\")\n",
        "print(node4.data)\n",
        "print(\"Filho à esquerda:\")\n",
        "print(node4.leftChild.data)\n",
        "print(\"Filho à direita:\") \n",
        "print(node4.rightChild.data)"
      ],
      "metadata": {
        "colab": {
          "base_uri": "https://localhost:8080/"
        },
        "id": "4l5-fUW_1SNM",
        "outputId": "1ded845b-7f74-40af-9bad-a6a45b8aebb8"
      },
      "execution_count": 35,
      "outputs": [
        {
          "output_type": "stream",
          "name": "stdout",
          "text": [
            "Nó 3 é:\n",
            "77\n",
            "Filho à esquerda:\n",
            "53\n",
            "Filho à direita:\n",
            "58\n"
          ]
        }
      ]
    },
    {
      "cell_type": "code",
      "source": [
        "print(\"Nó 4 é:\")\n",
        "print(node5.data)\n",
        "print(\"Filho à esquerda:\")\n",
        "print(node5.leftChild)\n",
        "print(\"Filho à direita:\") \n",
        "print(node5.rightChild)"
      ],
      "metadata": {
        "colab": {
          "base_uri": "https://localhost:8080/"
        },
        "id": "LKuR8Us_1V5O",
        "outputId": "d664e5e8-afbb-4002-dc84-9f56d8f1de7a"
      },
      "execution_count": 34,
      "outputs": [
        {
          "output_type": "stream",
          "name": "stdout",
          "text": [
            "Nó 4 é:\n",
            "79\n",
            "Filho à esquerda:\n",
            "None\n",
            "Filho à direita:\n",
            "None\n"
          ]
        }
      ]
    },
    {
      "cell_type": "code",
      "source": [
        "print(\"Nó 5 é:\")\n",
        "print(node8.data)\n",
        "print(\"Filho à esquerda:\")\n",
        "print(node8.leftChild.data)\n",
        "print(\"Filho à direita:\") \n",
        "print(node8.rightChild.data)"
      ],
      "metadata": {
        "colab": {
          "base_uri": "https://localhost:8080/"
        },
        "id": "s-H1zwzV1nRV",
        "outputId": "3263ea17-a070-4e05-e6b3-28c5a9f4479c"
      },
      "execution_count": 38,
      "outputs": [
        {
          "output_type": "stream",
          "name": "stdout",
          "text": [
            "Nó 5 é:\n",
            "89\n",
            "Filho à esquerda:\n",
            "81\n",
            "Filho à direita:\n",
            "84\n"
          ]
        }
      ]
    },
    {
      "cell_type": "code",
      "source": [
        "print(\"Nó 6 é:\")\n",
        "print(node9.data)\n",
        "print(\"Filho à esquerda:\")\n",
        "print(node9.leftChild)\n",
        "print(\"Filho à direita:\") \n",
        "print(node9.rightChild)"
      ],
      "metadata": {
        "colab": {
          "base_uri": "https://localhost:8080/"
        },
        "id": "hrUpYLv-2nt-",
        "outputId": "20901ee1-1a6e-4aaa-b9c3-c7f2076c9df2"
      },
      "execution_count": 41,
      "outputs": [
        {
          "output_type": "stream",
          "name": "stdout",
          "text": [
            "Nó 6 é:\n",
            "81\n",
            "Filho à esquerda:\n",
            "None\n",
            "Filho à direita:\n",
            "None\n"
          ]
        }
      ]
    },
    {
      "cell_type": "code",
      "source": [
        "print(\"Nó 7 é:\")\n",
        "print(node10.data)\n",
        "print(\"Filho à esquerda:\")\n",
        "print(node10.leftChild.data)\n",
        "print(\"Filho à direita:\") \n",
        "print(node10.rightChild.data)"
      ],
      "metadata": {
        "colab": {
          "base_uri": "https://localhost:8080/"
        },
        "id": "NgkR3hzw22-3",
        "outputId": "55cc3b76-ee08-412e-aa3f-24d2e93e6aef"
      },
      "execution_count": 42,
      "outputs": [
        {
          "output_type": "stream",
          "name": "stdout",
          "text": [
            "Nó 7 é:\n",
            "84\n",
            "Filho à esquerda:\n",
            "64\n",
            "Filho à direita:\n",
            "61\n"
          ]
        }
      ]
    }
  ]
}