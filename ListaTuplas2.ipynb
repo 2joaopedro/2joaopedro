{
  "nbformat": 4,
  "nbformat_minor": 0,
  "metadata": {
    "colab": {
      "provenance": [],
      "collapsed_sections": [
        "upSq1nw242y8",
        "JmZ9q4AD6hbE",
        "Hhz0Fawz8mkA",
        "5rjB4O95-n0n",
        "6YHvd0H9Cd7i",
        "tCCLt2RqDhnN",
        "WfWpxUmCGvVU",
        "jkfy0pI8KG1R",
        "OKrWXeLPKfL2",
        "XQeIB2ydLKui"
      ],
      "authorship_tag": "ABX9TyPfNM9n3xLZ/KexqKrwQvfB",
      "include_colab_link": true
    },
    "kernelspec": {
      "name": "python3",
      "display_name": "Python 3"
    },
    "language_info": {
      "name": "python"
    }
  },
  "cells": [
    {
      "cell_type": "markdown",
      "metadata": {
        "id": "view-in-github",
        "colab_type": "text"
      },
      "source": [
        "<a href=\"https://colab.research.google.com/github/2joaopedro/2joaopedro/blob/main/ListaTuplas2.ipynb\" target=\"_parent\"><img src=\"https://colab.research.google.com/assets/colab-badge.svg\" alt=\"Open In Colab\"/></a>"
      ]
    },
    {
      "cell_type": "markdown",
      "source": [
        "# **Ex1**"
      ],
      "metadata": {
        "id": "upSq1nw242y8"
      }
    },
    {
      "cell_type": "code",
      "source": [
        "# Crie uma tupla com o nome de 4 países e imprima na tela o terceiro país da tupla.\n",
        "\n",
        "countries = ('Brazil','United States','Canada','Australia')\n",
        "print(countries[2])"
      ],
      "metadata": {
        "colab": {
          "base_uri": "https://localhost:8080/"
        },
        "id": "PqI_BfYa5E7V",
        "outputId": "1dd93aef-da22-4a66-b18b-627e1d2083e7"
      },
      "execution_count": 2,
      "outputs": [
        {
          "output_type": "stream",
          "name": "stdout",
          "text": [
            "Canada\n"
          ]
        }
      ]
    },
    {
      "cell_type": "markdown",
      "source": [
        "# **Ex2**"
      ],
      "metadata": {
        "id": "JmZ9q4AD6hbE"
      }
    },
    {
      "cell_type": "code",
      "source": [
        "# Crie uma tupla com 3 valores inteiros e calcule a média dos valores. Em seguida, imprima a média na tela.\n",
        "\n",
        "integerValues = (10,8,6)\n",
        "calculateTheAverage = sum(integerValues) / len(integerValues)\n",
        "print(calculateTheAverage)"
      ],
      "metadata": {
        "id": "xCOIz_PK6jdw"
      },
      "execution_count": null,
      "outputs": []
    },
    {
      "cell_type": "markdown",
      "source": [
        "# **Ex3**"
      ],
      "metadata": {
        "id": "Hhz0Fawz8mkA"
      }
    },
    {
      "cell_type": "code",
      "source": [
        "# Crie duas tuplas com 5 elementos cada e verefique se elas têm o mesmo tamanho.\n",
        "\n",
        "tuplaOne = (1,2,3,4,5)\n",
        "tuplaTwo = (\"A\", \"B\", \"C\", \"D\", \"E\")\n",
        "\n",
        "if(len(tuplaOne) == len(tuplaTwo)):\n",
        "  print(\"As duas tuplas tem o mesmo tamanho.\")\n",
        "else:\n",
        "  print(\"As duas tuplas têm tamanhos diferentes.\")"
      ],
      "metadata": {
        "colab": {
          "base_uri": "https://localhost:8080/"
        },
        "id": "mr3DciB48owu",
        "outputId": "16685177-d604-40e7-f0a4-9cbf7ce373ad"
      },
      "execution_count": 5,
      "outputs": [
        {
          "output_type": "stream",
          "name": "stdout",
          "text": [
            "As duas tuplas tem o mesmo tamanho.\n"
          ]
        }
      ]
    },
    {
      "cell_type": "markdown",
      "source": [
        "# **Ex4**"
      ],
      "metadata": {
        "id": "5rjB4O95-n0n"
      }
    },
    {
      "cell_type": "code",
      "source": [
        "# Crie uma tupla com nome de 5 animais e crie uma nova tupla com os mesmos animais, mas em ordem reversa. Em seguida, imprima a nava tupla na tela.\n",
        "\n",
        "Animals = (\"Dog\", \"Cat\", \"Bird\", \"Cuelho\", \"Turtle\")\n",
        "NewAnimals = tuple(reversed(Animals * 1))\n",
        "print(NewAnimals)"
      ],
      "metadata": {
        "colab": {
          "base_uri": "https://localhost:8080/"
        },
        "id": "AWIYIqgV-p4M",
        "outputId": "96c3abf9-8d46-49c5-b921-30212c87e217"
      },
      "execution_count": 8,
      "outputs": [
        {
          "output_type": "stream",
          "name": "stdout",
          "text": [
            "('Turtle', 'Cuelho', 'Bird', 'Cat', 'Dog')\n"
          ]
        }
      ]
    },
    {
      "cell_type": "markdown",
      "source": [
        "# **Ex5**"
      ],
      "metadata": {
        "id": "6YHvd0H9Cd7i"
      }
    },
    {
      "cell_type": "code",
      "source": [
        "# Crie uma tupla com 3 valores inteiros e imprima na tela o menor valor da tupla.\n",
        "\n",
        "integerValues = (5,3,1,2)\n",
        "lowerValue = min(integerValues)\n",
        "print(lowerValue)"
      ],
      "metadata": {
        "colab": {
          "base_uri": "https://localhost:8080/"
        },
        "id": "35BWf78FCgAM",
        "outputId": "94fb6d5f-fe22-42e0-d99b-712c728e5833"
      },
      "execution_count": 9,
      "outputs": [
        {
          "output_type": "stream",
          "name": "stdout",
          "text": [
            "1\n"
          ]
        }
      ]
    },
    {
      "cell_type": "markdown",
      "source": [
        "# **Ex6**"
      ],
      "metadata": {
        "id": "tCCLt2RqDhnN"
      }
    },
    {
      "cell_type": "code",
      "source": [
        "# Crie uma tupla com o nome de 4 disciplinas escolares e adicione uma nova disciplina à tupla. Em seguida, imprima a nova tupa na tela.\n",
        "\n",
        "schoolSubjects = (\"Physical\", \"Mathematics\", \"Geography\", \"History\")\n",
        "newSubjects = schoolSubjects + (\"Chemical\",)\n",
        "print(newSubjects)"
      ],
      "metadata": {
        "colab": {
          "base_uri": "https://localhost:8080/"
        },
        "id": "YnlhAZymDl1E",
        "outputId": "80b1ebc2-1f49-4fd2-958f-310c14d442f2"
      },
      "execution_count": 13,
      "outputs": [
        {
          "output_type": "stream",
          "name": "stdout",
          "text": [
            "('Physical', 'Mathematics', 'Geography', 'History', 'Chemical')\n"
          ]
        }
      ]
    },
    {
      "cell_type": "markdown",
      "source": [
        "# **Ex7**"
      ],
      "metadata": {
        "id": "WfWpxUmCGvVU"
      }
    },
    {
      "cell_type": "code",
      "source": [
        "# Crie uma tupla com os valores 1, 2, 3, 4, 5 e verefique se o valor 6 está na tupla.\n",
        "\n",
        "values = (1, 2, 3, 4, 5)\n",
        "if 6 in values:\n",
        "  print(\"O valor 6 está presente na tupla\")\n",
        "else:\n",
        "  print(\"O valor 6 não está presente na tupla\")"
      ],
      "metadata": {
        "colab": {
          "base_uri": "https://localhost:8080/"
        },
        "id": "fyxbyb6jGyZz",
        "outputId": "01ec911a-e18e-40b8-ddca-5c23443b1a47"
      },
      "execution_count": 15,
      "outputs": [
        {
          "output_type": "stream",
          "name": "stdout",
          "text": [
            "O valor 6 não está presente na tupla\n"
          ]
        }
      ]
    },
    {
      "cell_type": "markdown",
      "source": [
        "# **Ex8**"
      ],
      "metadata": {
        "id": "jkfy0pI8KG1R"
      }
    },
    {
      "cell_type": "code",
      "source": [
        "# Crie uma tupla com o nome de 3 cidades e imprima na tela apenas as cidades que começam com a letra \"S\".\n",
        "\n",
        "cities = (\"São Paulo\", \"Rio de Janeiro\", \"Salvador\")\n",
        "for cities in cities:\n",
        "    if cities.startswith(\"S\"):\n",
        "        print(cities)"
      ],
      "metadata": {
        "colab": {
          "base_uri": "https://localhost:8080/"
        },
        "id": "0q7bj2vDKJIW",
        "outputId": "fa519a5e-bc16-43ee-b379-fd4c0006cf5c"
      },
      "execution_count": 18,
      "outputs": [
        {
          "output_type": "stream",
          "name": "stdout",
          "text": [
            "São Paulo\n",
            "Salvador\n"
          ]
        }
      ]
    },
    {
      "cell_type": "markdown",
      "source": [
        "# **Ex9**"
      ],
      "metadata": {
        "id": "OKrWXeLPKfL2"
      }
    },
    {
      "cell_type": "code",
      "source": [
        "# Crie uma tupla com os valores 3, 6, 9 e 12 e divida cada valor por 3. Em seguida, imprima a nova tuplana tela.\n",
        "\n",
        "tupla = (3, 6, 9, 12)\n",
        "newTupla = tuple(value/3 for value in tupla)\n",
        "print(newTupla)"
      ],
      "metadata": {
        "colab": {
          "base_uri": "https://localhost:8080/"
        },
        "id": "p2_tZv69KhRA",
        "outputId": "52cbc467-597f-44a9-f5b8-2ada0b9554f3"
      },
      "execution_count": 19,
      "outputs": [
        {
          "output_type": "stream",
          "name": "stdout",
          "text": [
            "(1.0, 2.0, 3.0, 4.0)\n"
          ]
        }
      ]
    },
    {
      "cell_type": "markdown",
      "source": [
        "# **Ex10**"
      ],
      "metadata": {
        "id": "XQeIB2ydLKui"
      }
    },
    {
      "cell_type": "code",
      "source": [
        "# Crie uma tupla com o nome de 5 frutas e remova a fruta \"abacaxi\" da tupla. Em seguida, imprima a nova tupla na tela.\n",
        "\n",
        "fruits = ('banana', 'maçã', 'abacaxi', 'laranja', 'uva')\n",
        "newFruits = tuple(f for f in fruits if f != 'abacaxi')\n",
        "print(newFruits)"
      ],
      "metadata": {
        "id": "jQedGDQZLNJU"
      },
      "execution_count": null,
      "outputs": []
    }
  ]
}